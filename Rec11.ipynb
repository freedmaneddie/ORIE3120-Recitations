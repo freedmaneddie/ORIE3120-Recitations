{
 "cells": [
  {
   "cell_type": "markdown",
   "metadata": {
    "colab_type": "text",
    "id": "M_sj9n9iJwxh"
   },
   "source": [
    "# Welcome to Recitation \n"
   ]
  },
  {
   "cell_type": "markdown",
   "metadata": {
    "colab_type": "text",
    "id": "xKP8Pq4mYyM_"
   },
   "source": [
    "## Case Background\n",
    "In this lab, we continue the analysis of the casting problem. Recall that, as part of a longer\n",
    "manufacturing process, a factory needs to cast a large number of rectangular metallic blocks.\n",
    "The blocks are manufactured using a mold, consisting of the main cavity, a cup through\n",
    "which the molten metal is poured, and two risers for cooling. The size and shape of the\n",
    "pouring cup and risers affect how quickly the metal can be poured into the mold, how\n",
    "quickly it cools, and whether it sets correctly."
   ]
  },
  {
   "cell_type": "markdown",
   "metadata": {
    "colab_type": "text",
    "id": "Dh9soj6lKB9_"
   },
   "source": [
    "## Objective\n",
    "The factory needs to cast batches of 100 blocks of size 4.5×4.5×7 inches. The\n",
    "current casting approach is conservative – it takes a long time to pour, but the blocks\n",
    "always set correctly and are usable. Your goal is to achieve a significant reduction in\n",
    "average casting time while still ensuring that most blocks are usable.\n",
    "\n"
   ]
  },
  {
   "cell_type": "markdown",
   "metadata": {
    "colab_type": "text",
    "id": "vUX8BCsRHoxe"
   },
   "source": [
    "## Variables characterizing the mold\n",
    "\n",
    "The following nine mold-variables can be varied:\n",
    "Riser Height, Riser Diameter, Riser 1 Position, Riser 2 Position, Gate Diameter,\n",
    "Cup Height, Sprue Height, Sprue Diameter Bottom, Sprue Diameter Top."
   ]
  },
  {
   "cell_type": "markdown",
   "metadata": {
    "colab_type": "text",
    "id": "yb2ZzEpLJey_"
   },
   "source": [
    "## Data\n",
    "\n",
    "To obtain data on how various mold-variable settings affect pouring and cooling, a batch of 100 is poured with random variations in the nine mold-variables, centered about their baseline values. The data is available in castdata.csv. Use the same file as the previous recitation. As before, the first nine columns are the mold-variables listed above and the 10th column is `BatchTime` and the 11th column is `Feasible`. `Feasible` is 1 if the casting is feasible and 0 otherwise."
   ]
  },
  {
   "cell_type": "markdown",
   "metadata": {
    "colab_type": "text",
    "id": "C5fjXrHwJlrQ"
   },
   "source": [
    "## ASSIGNMENT\n",
    "\n",
    "This lab project will guide you through the analysis. First, we must import castdata.csv into the notebook."
   ]
  },
  {
   "cell_type": "code",
   "execution_count": 2,
   "metadata": {
    "colab": {},
    "colab_type": "code",
    "id": "CoP3YPMlJj1y"
   },
   "outputs": [
    {
     "data": {
      "text/html": [
       "<div>\n",
       "<style scoped>\n",
       "    .dataframe tbody tr th:only-of-type {\n",
       "        vertical-align: middle;\n",
       "    }\n",
       "\n",
       "    .dataframe tbody tr th {\n",
       "        vertical-align: top;\n",
       "    }\n",
       "\n",
       "    .dataframe thead th {\n",
       "        text-align: right;\n",
       "    }\n",
       "</style>\n",
       "<table border=\"1\" class=\"dataframe\">\n",
       "  <thead>\n",
       "    <tr style=\"text-align: right;\">\n",
       "      <th></th>\n",
       "      <th>GateDiam</th>\n",
       "      <th>CupHeight</th>\n",
       "      <th>SprueHeight</th>\n",
       "      <th>RiserDiam</th>\n",
       "      <th>SprueDiamBot</th>\n",
       "      <th>SprueDiamTop</th>\n",
       "      <th>RiserHeight</th>\n",
       "      <th>Riser1Pos</th>\n",
       "      <th>Riser2Pos</th>\n",
       "      <th>BatchTime</th>\n",
       "      <th>Feasible</th>\n",
       "    </tr>\n",
       "  </thead>\n",
       "  <tbody>\n",
       "    <tr>\n",
       "      <th>0</th>\n",
       "      <td>0.500000</td>\n",
       "      <td>5.000000</td>\n",
       "      <td>10.000000</td>\n",
       "      <td>7.000000</td>\n",
       "      <td>0.500000</td>\n",
       "      <td>0.750000</td>\n",
       "      <td>5.000000</td>\n",
       "      <td>3.500000</td>\n",
       "      <td>5.000000</td>\n",
       "      <td>3031.292318</td>\n",
       "      <td>1</td>\n",
       "    </tr>\n",
       "    <tr>\n",
       "      <th>1</th>\n",
       "      <td>0.318317</td>\n",
       "      <td>5.604768</td>\n",
       "      <td>10.148839</td>\n",
       "      <td>6.745247</td>\n",
       "      <td>0.635632</td>\n",
       "      <td>0.889822</td>\n",
       "      <td>5.318354</td>\n",
       "      <td>3.168774</td>\n",
       "      <td>5.233322</td>\n",
       "      <td>3042.417820</td>\n",
       "      <td>0</td>\n",
       "    </tr>\n",
       "    <tr>\n",
       "      <th>2</th>\n",
       "      <td>0.353834</td>\n",
       "      <td>5.846289</td>\n",
       "      <td>9.528183</td>\n",
       "      <td>7.345273</td>\n",
       "      <td>0.642489</td>\n",
       "      <td>1.005683</td>\n",
       "      <td>4.836570</td>\n",
       "      <td>3.265961</td>\n",
       "      <td>5.482437</td>\n",
       "      <td>3050.300487</td>\n",
       "      <td>1</td>\n",
       "    </tr>\n",
       "    <tr>\n",
       "      <th>3</th>\n",
       "      <td>0.596163</td>\n",
       "      <td>4.280124</td>\n",
       "      <td>10.887751</td>\n",
       "      <td>6.952856</td>\n",
       "      <td>0.317180</td>\n",
       "      <td>0.589558</td>\n",
       "      <td>5.492964</td>\n",
       "      <td>4.029533</td>\n",
       "      <td>4.719791</td>\n",
       "      <td>3034.202547</td>\n",
       "      <td>1</td>\n",
       "    </tr>\n",
       "    <tr>\n",
       "      <th>4</th>\n",
       "      <td>0.484338</td>\n",
       "      <td>5.205026</td>\n",
       "      <td>11.003688</td>\n",
       "      <td>7.254450</td>\n",
       "      <td>0.531424</td>\n",
       "      <td>0.595769</td>\n",
       "      <td>4.897376</td>\n",
       "      <td>4.011947</td>\n",
       "      <td>4.822747</td>\n",
       "      <td>3033.046509</td>\n",
       "      <td>1</td>\n",
       "    </tr>\n",
       "  </tbody>\n",
       "</table>\n",
       "</div>"
      ],
      "text/plain": [
       "   GateDiam  CupHeight  SprueHeight  RiserDiam  SprueDiamBot  SprueDiamTop  \\\n",
       "0  0.500000   5.000000    10.000000   7.000000      0.500000      0.750000   \n",
       "1  0.318317   5.604768    10.148839   6.745247      0.635632      0.889822   \n",
       "2  0.353834   5.846289     9.528183   7.345273      0.642489      1.005683   \n",
       "3  0.596163   4.280124    10.887751   6.952856      0.317180      0.589558   \n",
       "4  0.484338   5.205026    11.003688   7.254450      0.531424      0.595769   \n",
       "\n",
       "   RiserHeight  Riser1Pos  Riser2Pos    BatchTime  Feasible  \n",
       "0     5.000000   3.500000   5.000000  3031.292318         1  \n",
       "1     5.318354   3.168774   5.233322  3042.417820         0  \n",
       "2     4.836570   3.265961   5.482437  3050.300487         1  \n",
       "3     5.492964   4.029533   4.719791  3034.202547         1  \n",
       "4     4.897376   4.011947   4.822747  3033.046509         1  "
      ]
     },
     "execution_count": 2,
     "metadata": {},
     "output_type": "execute_result"
    }
   ],
   "source": [
    "import numpy as np\n",
    "import pandas as pd\n",
    "import matplotlib.pyplot as plt\n",
    "import statsmodels.api as sm\n",
    "df = pd.read_csv('castdata.csv')\n",
    "df.head() # view the data"
   ]
  },
  {
   "cell_type": "markdown",
   "metadata": {
    "colab_type": "text",
    "id": "EiNj4SFr0QEy"
   },
   "source": [
    "We would like to compare the distributions of the predictors among the two populations, Feasible\n",
    "= 0 and Feasible = 1. The code for doing so is shown below:"
   ]
  },
  {
   "cell_type": "code",
   "execution_count": 3,
   "metadata": {
    "colab": {},
    "colab_type": "code",
    "id": "B6Wcy78g4299"
   },
   "outputs": [
    {
     "data": {
      "text/plain": [
       "array([[<matplotlib.axes._subplots.AxesSubplot object at 0x1a217345d0>,\n",
       "        <matplotlib.axes._subplots.AxesSubplot object at 0x1a21e3ffd0>],\n",
       "       [<matplotlib.axes._subplots.AxesSubplot object at 0x1a2174bf50>,\n",
       "        <matplotlib.axes._subplots.AxesSubplot object at 0x1a21ebc8d0>]],\n",
       "      dtype=object)"
      ]
     },
     "execution_count": 3,
     "metadata": {},
     "output_type": "execute_result"
    },
    {
     "data": {
      "image/png": "[encoded data removed]",
      "text/plain": [
       "<Figure size 720x720 with 4 Axes>"
      ]
     },
     "metadata": {
      "needs_background": "light"
     },
     "output_type": "display_data"
    }
   ],
   "source": [
    "'''\n",
    "Because pandas won't allow multiple scales for the y-axis,\n",
    "we must divide and conquer with our boxplots. First execute\n",
    "the follwing code to view the boxplots for the variables\n",
    "with the lowest values\n",
    "''' \n",
    "low_vals = ['GateDiam', 'SprueDiamBot', 'SprueDiamTop']\n",
    "\n",
    "df.boxplot(column=low_vals, by = 'Feasible', layout=(2,2), figsize=(10,10))\n",
    "# layout=(2,2) configures how the plots will be outputted into the console\n",
    "# for more info on df.boxplot() head to the link:\n",
    "# https://pandas.pydata.org/pandas-docs/stable/reference/api/pandas.DataFrame.boxplot.html"
   ]
  },
  {
   "cell_type": "code",
   "execution_count": 4,
   "metadata": {
    "colab": {},
    "colab_type": "code",
    "id": "5kr2u-kVEW2C"
   },
   "outputs": [
    {
     "data": {
      "text/plain": [
       "array([[<matplotlib.axes._subplots.AxesSubplot object at 0x1a21eab7d0>,\n",
       "        <matplotlib.axes._subplots.AxesSubplot object at 0x1a222f9890>],\n",
       "       [<matplotlib.axes._subplots.AxesSubplot object at 0x1a224bdcd0>,\n",
       "        <matplotlib.axes._subplots.AxesSubplot object at 0x1a224f4f10>]],\n",
       "      dtype=object)"
      ]
     },
     "execution_count": 4,
     "metadata": {},
     "output_type": "execute_result"
    },
    {
     "data": {
      "image/png": "[encoded data removed]",
      "text/plain": [
       "<Figure size 720x720 with 4 Axes>"
      ]
     },
     "metadata": {
      "needs_background": "light"
     },
     "output_type": "display_data"
    }
   ],
   "source": [
    "# now do the same for the variables with medium values\n",
    "med_vals = ['CupHeight', 'RiserHeight', 'Riser1Pos', 'Riser2Pos']\n",
    "\n",
    "df.boxplot(column=med_vals, by = 'Feasible', layout=(2,2), figsize=(10,10))"
   ]
  },
  {
   "cell_type": "code",
   "execution_count": 5,
   "metadata": {
    "colab": {},
    "colab_type": "code",
    "id": "R4TD65q-EYFx"
   },
   "outputs": [
    {
     "data": {
      "text/plain": [
       "array([<matplotlib.axes._subplots.AxesSubplot object at 0x1a22521290>,\n",
       "       <matplotlib.axes._subplots.AxesSubplot object at 0x1a22745e50>],\n",
       "      dtype=object)"
      ]
     },
     "execution_count": 5,
     "metadata": {},
     "output_type": "execute_result"
    },
    {
     "data": {
      "image/png": "[encoded data removed]",
      "text/plain": [
       "<Figure size 720x720 with 2 Axes>"
      ]
     },
     "metadata": {
      "needs_background": "light"
     },
     "output_type": "display_data"
    }
   ],
   "source": [
    "# finally, do the same for the highest values\n",
    "high_vals = ['SprueHeight', 'RiserDiam']\n",
    "\n",
    "df.boxplot(column=high_vals, by = 'Feasible', layout=(1,2), figsize=(10,10))"
   ]
  },
  {
   "cell_type": "markdown",
   "metadata": {
    "colab_type": "text",
    "id": "JUunmNXXFnRJ"
   },
   "source": [
    "To answer the question below, you will need to know about boxplots. A boxplot uses a box to visualize a collection of observations. In the center of the box is a green line. The height of this line is the median of the observations. The height of the top of the box is 75% quantile (the number such that 75% of the observations are below it). The height of the bottom of the box is the 25% quantile. There are lines coming out of the box (called\n",
    "“whiskers”) that represent the range of values over which most of the data falls. There may be a few circles above and below the whiskers, which are data that fall outside of this range. These points are called “outliers”."
   ]
  },
  {
   "cell_type": "markdown",
   "metadata": {
    "colab_type": "text",
    "id": "sQrOHSOtFZJB"
   },
   "source": [
    "# Question 1\n",
    "Which two or three variables appear most related to Feasible? For those variables, are they higher or lower on average when Feasible = 1 rather than 0. Use these observations to make an initial recommendation about the optimal values of the mold-variables in order to maximize the probability of a feasible casting."
   ]
  },
  {
   "cell_type": "markdown",
   "metadata": {
    "colab_type": "text",
    "id": "pkWC5JzoAicr"
   },
   "source": [
    "Ans: The two variables that seem most related are RiserDiam and SprueDiamTop. For RiserDiam, the middle 50% of data is greater in the feasible (1) category, and the median is lower for SprueDiamTop. Based on this, you want a larger RiserDiam and a smaller SprueDiamTop."
   ]
  },
  {
   "cell_type": "markdown",
   "metadata": {
    "colab_type": "text",
    "id": "2crzbZWBsUM8"
   },
   "source": [
    "## Logistic Regression\n",
    "\n",
    "We will fit a logistic regression model to estimate the probability that a casting is feasible\n",
    "using the mold-variables as predictors. Fit an initial logistic regression model, using the\n",
    "following commands:"
   ]
  },
  {
   "cell_type": "code",
   "execution_count": 6,
   "metadata": {
    "colab": {},
    "colab_type": "code",
    "id": "Ii2BvNF2sYc4"
   },
   "outputs": [
    {
     "name": "stdout",
     "output_type": "stream",
     "text": [
      "Optimization terminated successfully.\n",
      "         Current function value: 0.293880\n",
      "         Iterations 8\n"
     ]
    },
    {
     "data": {
      "text/html": [
       "<table class=\"simpletable\">\n",
       "<caption>Logit Regression Results</caption>\n",
       "<tr>\n",
       "  <th>Dep. Variable:</th>       <td>Feasible</td>     <th>  No. Observations:  </th>  <td>   100</td>  \n",
       "</tr>\n",
       "<tr>\n",
       "  <th>Model:</th>                 <td>Logit</td>      <th>  Df Residuals:      </th>  <td>    90</td>  \n",
       "</tr>\n",
       "<tr>\n",
       "  <th>Method:</th>                 <td>MLE</td>       <th>  Df Model:          </th>  <td>     9</td>  \n",
       "</tr>\n",
       "<tr>\n",
       "  <th>Date:</th>            <td>Wed, 29 Apr 2020</td> <th>  Pseudo R-squ.:     </th>  <td>0.5699</td>  \n",
       "</tr>\n",
       "<tr>\n",
       "  <th>Time:</th>                <td>17:06:53</td>     <th>  Log-Likelihood:    </th> <td> -29.388</td> \n",
       "</tr>\n",
       "<tr>\n",
       "  <th>converged:</th>             <td>True</td>       <th>  LL-Null:           </th> <td> -68.331</td> \n",
       "</tr>\n",
       "<tr>\n",
       "  <th>Covariance Type:</th>     <td>nonrobust</td>    <th>  LLR p-value:       </th> <td>4.243e-13</td>\n",
       "</tr>\n",
       "</table>\n",
       "<table class=\"simpletable\">\n",
       "<tr>\n",
       "        <td></td>          <th>coef</th>     <th>std err</th>      <th>z</th>      <th>P>|z|</th>  <th>[0.025</th>    <th>0.975]</th>  \n",
       "</tr>\n",
       "<tr>\n",
       "  <th>const</th>        <td>  -14.9324</td> <td>    9.737</td> <td>   -1.534</td> <td> 0.125</td> <td>  -34.017</td> <td>    4.152</td>\n",
       "</tr>\n",
       "<tr>\n",
       "  <th>GateDiam</th>     <td>   -4.8123</td> <td>    2.709</td> <td>   -1.776</td> <td> 0.076</td> <td>  -10.123</td> <td>    0.498</td>\n",
       "</tr>\n",
       "<tr>\n",
       "  <th>CupHeight</th>    <td>   -0.5460</td> <td>    0.867</td> <td>   -0.630</td> <td> 0.529</td> <td>   -2.245</td> <td>    1.153</td>\n",
       "</tr>\n",
       "<tr>\n",
       "  <th>SprueHeight</th>  <td>   -0.2529</td> <td>    0.663</td> <td>   -0.382</td> <td> 0.703</td> <td>   -1.552</td> <td>    1.046</td>\n",
       "</tr>\n",
       "<tr>\n",
       "  <th>RiserDiam</th>    <td>    5.1473</td> <td>    1.155</td> <td>    4.457</td> <td> 0.000</td> <td>    2.884</td> <td>    7.411</td>\n",
       "</tr>\n",
       "<tr>\n",
       "  <th>SprueDiamBot</th> <td>  -13.7618</td> <td>    4.284</td> <td>   -3.213</td> <td> 0.001</td> <td>  -22.158</td> <td>   -5.366</td>\n",
       "</tr>\n",
       "<tr>\n",
       "  <th>SprueDiamTop</th> <td>   -8.8910</td> <td>    2.445</td> <td>   -3.637</td> <td> 0.000</td> <td>  -13.683</td> <td>   -4.099</td>\n",
       "</tr>\n",
       "<tr>\n",
       "  <th>RiserHeight</th>  <td>    0.5067</td> <td>    0.875</td> <td>    0.579</td> <td> 0.562</td> <td>   -1.208</td> <td>    2.221</td>\n",
       "</tr>\n",
       "<tr>\n",
       "  <th>Riser1Pos</th>    <td>   -0.0719</td> <td>    0.839</td> <td>   -0.086</td> <td> 0.932</td> <td>   -1.717</td> <td>    1.573</td>\n",
       "</tr>\n",
       "<tr>\n",
       "  <th>Riser2Pos</th>    <td>   -0.2144</td> <td>    0.766</td> <td>   -0.280</td> <td> 0.780</td> <td>   -1.716</td> <td>    1.287</td>\n",
       "</tr>\n",
       "</table>"
      ],
      "text/plain": [
       "<class 'statsmodels.iolib.summary.Summary'>\n",
       "\"\"\"\n",
       "                           Logit Regression Results                           \n",
       "==============================================================================\n",
       "Dep. Variable:               Feasible   No. Observations:                  100\n",
       "Model:                          Logit   Df Residuals:                       90\n",
       "Method:                           MLE   Df Model:                            9\n",
       "Date:                Wed, 29 Apr 2020   Pseudo R-squ.:                  0.5699\n",
       "Time:                        17:06:53   Log-Likelihood:                -29.388\n",
       "converged:                       True   LL-Null:                       -68.331\n",
       "Covariance Type:            nonrobust   LLR p-value:                 4.243e-13\n",
       "================================================================================\n",
       "                   coef    std err          z      P>|z|      [0.025      0.975]\n",
       "--------------------------------------------------------------------------------\n",
       "const          -14.9324      9.737     -1.534      0.125     -34.017       4.152\n",
       "GateDiam        -4.8123      2.709     -1.776      0.076     -10.123       0.498\n",
       "CupHeight       -0.5460      0.867     -0.630      0.529      -2.245       1.153\n",
       "SprueHeight     -0.2529      0.663     -0.382      0.703      -1.552       1.046\n",
       "RiserDiam        5.1473      1.155      4.457      0.000       2.884       7.411\n",
       "SprueDiamBot   -13.7618      4.284     -3.213      0.001     -22.158      -5.366\n",
       "SprueDiamTop    -8.8910      2.445     -3.637      0.000     -13.683      -4.099\n",
       "RiserHeight      0.5067      0.875      0.579      0.562      -1.208       2.221\n",
       "Riser1Pos       -0.0719      0.839     -0.086      0.932      -1.717       1.573\n",
       "Riser2Pos       -0.2144      0.766     -0.280      0.780      -1.716       1.287\n",
       "================================================================================\n",
       "\"\"\""
      ]
     },
     "execution_count": 6,
     "metadata": {},
     "output_type": "execute_result"
    }
   ],
   "source": [
    "# pull out our dependent/response variable\n",
    "y = df[\"Feasible\"]\n",
    "# slice the df to obtain the desired independent variables \n",
    "# sm.add_constant allows sm.Logit to fit an incercept \n",
    "X = sm.add_constant(df.loc[:, :'Riser2Pos'])\n",
    "# fit the model and return the regression results\n",
    "model = sm.Logit(y, X).fit()\n",
    "results = model.summary()\n",
    "results"
   ]
  },
  {
   "cell_type": "markdown",
   "metadata": {
    "colab_type": "text",
    "id": "i2RAP_2vu8Hu"
   },
   "source": [
    "The `Logit()` function gives the natural log of the odds that y (\"Feasible\") equals one of the categories (0 or 1). If we were to use the regular values of y, as opposed to $ln(P(Y = y))$, for the response/dependent variable and tried to fit a line, it wouldn’t be a very good representation of the relationship. If you don't believe us, give linear regression a try and see what you find out!"
   ]
  },
  {
   "cell_type": "markdown",
   "metadata": {
    "colab_type": "text",
    "id": "vQbzXcdr7d97"
   },
   "source": [
    "# AIC\n",
    "\n",
    "AIC stands for Akaike’s Information Criterion. It estimates the quality of a model, relative to each of other models. The lower AIC score is, the better the model is. Therefore, a model with lowest AIC - in comparison to others, is chosen. Execute the code below to print the AIC value of our current model:"
   ]
  },
  {
   "cell_type": "code",
   "execution_count": 7,
   "metadata": {
    "colab": {},
    "colab_type": "code",
    "id": "dnSnW8Sw7nGf"
   },
   "outputs": [
    {
     "name": "stdout",
     "output_type": "stream",
     "text": [
      "Current model AIC: 78.77595904293287\n"
     ]
    }
   ],
   "source": [
    "print(f'Current model AIC: {model.aic}')\n",
    "# for those unfamiliar, this is called a Python f-String, it allows you to embed\n",
    "# variables into a string using brackets"
   ]
  },
  {
   "cell_type": "markdown",
   "metadata": {
    "colab_type": "text",
    "id": "HK35d4GBxPcQ"
   },
   "source": [
    "## Question 2\n",
    "\n",
    "Interpret the summary output: Which variables appear to be statistically\n",
    "significant at the 95% level, and how do they affect feasibility? Do the results from the\n",
    "logistic regression agree or disagree with the results from the boxplots?\n",
    "What is the value of the AIC for this model?"
   ]
  },
  {
   "cell_type": "markdown",
   "metadata": {
    "colab_type": "text",
    "id": "gUGembJUCy-7"
   },
   "source": [
    "Ans: The variables RiserDiam, SprueDiamTop and SprueDiamBot are statistically significant at the 95% level. The logictic regression results agree with the boxplots for RiserDiam and SprueDiamTop only. The value of AIC is 78.77."
   ]
  },
  {
   "cell_type": "markdown",
   "metadata": {
    "colab_type": "text",
    "id": "_CzwLpFA7fk_"
   },
   "source": [
    "## Minimum AIC\n",
    "\n",
    "We are now going to find a model with the minimum AIC."
   ]
  },
  {
   "cell_type": "code",
   "execution_count": 8,
   "metadata": {
    "colab": {},
    "colab_type": "code",
    "id": "JkUGTyf_zFa0"
   },
   "outputs": [
    {
     "name": "stdout",
     "output_type": "stream",
     "text": [
      "Optimization terminated successfully.\n",
      "         Current function value: 0.293880\n",
      "         Iterations 8\n",
      "old model aic: 78.77595904293287\n",
      "Optimization terminated successfully.\n",
      "         Current function value: 0.293917\n",
      "         Iterations 8\n",
      "new model aic: 76.78331312043106\n",
      "old model aic: 76.78331312043106\n",
      "Optimization terminated successfully.\n",
      "         Current function value: 0.294335\n",
      "         Iterations 8\n",
      "new model aic: 74.86703892578245\n",
      "old model aic: 74.86703892578245\n",
      "Optimization terminated successfully.\n",
      "         Current function value: 0.295176\n",
      "         Iterations 8\n",
      "new model aic: 73.03528882927334\n",
      "old model aic: 73.03528882927334\n",
      "Optimization terminated successfully.\n",
      "         Current function value: 0.296468\n",
      "         Iterations 8\n",
      "new model aic: 71.29368268744443\n",
      "old model aic: 71.29368268744443\n",
      "Optimization terminated successfully.\n",
      "         Current function value: 0.297922\n",
      "         Iterations 8\n",
      "new model aic: 69.58437234068401\n",
      "old model aic: 69.58437234068401\n",
      "Optimization terminated successfully.\n",
      "         Current function value: 0.315144\n",
      "         Iterations 8\n",
      "new model aic: 71.02885845386301\n",
      "Optimization terminated successfully.\n",
      "         Current function value: 0.297922\n",
      "         Iterations 8\n"
     ]
    },
    {
     "data": {
      "text/html": [
       "<table class=\"simpletable\">\n",
       "<caption>Logit Regression Results</caption>\n",
       "<tr>\n",
       "  <th>Dep. Variable:</th>       <td>Feasible</td>     <th>  No. Observations:  </th>  <td>   100</td>  \n",
       "</tr>\n",
       "<tr>\n",
       "  <th>Model:</th>                 <td>Logit</td>      <th>  Df Residuals:      </th>  <td>    95</td>  \n",
       "</tr>\n",
       "<tr>\n",
       "  <th>Method:</th>                 <td>MLE</td>       <th>  Df Model:          </th>  <td>     4</td>  \n",
       "</tr>\n",
       "<tr>\n",
       "  <th>Date:</th>            <td>Wed, 29 Apr 2020</td> <th>  Pseudo R-squ.:     </th>  <td>0.5640</td>  \n",
       "</tr>\n",
       "<tr>\n",
       "  <th>Time:</th>                <td>17:10:50</td>     <th>  Log-Likelihood:    </th> <td> -29.792</td> \n",
       "</tr>\n",
       "<tr>\n",
       "  <th>converged:</th>             <td>True</td>       <th>  LL-Null:           </th> <td> -68.331</td> \n",
       "</tr>\n",
       "<tr>\n",
       "  <th>Covariance Type:</th>     <td>nonrobust</td>    <th>  LLR p-value:       </th> <td>7.238e-16</td>\n",
       "</tr>\n",
       "</table>\n",
       "<table class=\"simpletable\">\n",
       "<tr>\n",
       "        <td></td>          <th>coef</th>     <th>std err</th>      <th>z</th>      <th>P>|z|</th>  <th>[0.025</th>    <th>0.975]</th>  \n",
       "</tr>\n",
       "<tr>\n",
       "  <th>const</th>        <td>  -18.5546</td> <td>    5.813</td> <td>   -3.192</td> <td> 0.001</td> <td>  -29.947</td> <td>   -7.162</td>\n",
       "</tr>\n",
       "<tr>\n",
       "  <th>GateDiam</th>     <td>   -4.5922</td> <td>    2.598</td> <td>   -1.768</td> <td> 0.077</td> <td>   -9.684</td> <td>    0.500</td>\n",
       "</tr>\n",
       "<tr>\n",
       "  <th>RiserDiam</th>    <td>    5.0380</td> <td>    1.096</td> <td>    4.598</td> <td> 0.000</td> <td>    2.890</td> <td>    7.186</td>\n",
       "</tr>\n",
       "<tr>\n",
       "  <th>SprueDiamBot</th> <td>  -13.7074</td> <td>    3.905</td> <td>   -3.510</td> <td> 0.000</td> <td>  -21.361</td> <td>   -6.054</td>\n",
       "</tr>\n",
       "<tr>\n",
       "  <th>SprueDiamTop</th> <td>   -8.6828</td> <td>    2.311</td> <td>   -3.758</td> <td> 0.000</td> <td>  -13.212</td> <td>   -4.154</td>\n",
       "</tr>\n",
       "</table>"
      ],
      "text/plain": [
       "<class 'statsmodels.iolib.summary.Summary'>\n",
       "\"\"\"\n",
       "                           Logit Regression Results                           \n",
       "==============================================================================\n",
       "Dep. Variable:               Feasible   No. Observations:                  100\n",
       "Model:                          Logit   Df Residuals:                       95\n",
       "Method:                           MLE   Df Model:                            4\n",
       "Date:                Wed, 29 Apr 2020   Pseudo R-squ.:                  0.5640\n",
       "Time:                        17:10:50   Log-Likelihood:                -29.792\n",
       "converged:                       True   LL-Null:                       -68.331\n",
       "Covariance Type:            nonrobust   LLR p-value:                 7.238e-16\n",
       "================================================================================\n",
       "                   coef    std err          z      P>|z|      [0.025      0.975]\n",
       "--------------------------------------------------------------------------------\n",
       "const          -18.5546      5.813     -3.192      0.001     -29.947      -7.162\n",
       "GateDiam        -4.5922      2.598     -1.768      0.077      -9.684       0.500\n",
       "RiserDiam        5.0380      1.096      4.598      0.000       2.890       7.186\n",
       "SprueDiamBot   -13.7074      3.905     -3.510      0.000     -21.361      -6.054\n",
       "SprueDiamTop    -8.6828      2.311     -3.758      0.000     -13.212      -4.154\n",
       "================================================================================\n",
       "\"\"\""
      ]
     },
     "execution_count": 8,
     "metadata": {},
     "output_type": "execute_result"
    }
   ],
   "source": [
    "# this function finds returns a model with the minimum AIC for a logistic regression model\n",
    "def minAIC(X,y):\n",
    "    variables = X.columns\n",
    "    model = sm.Logit(y,X[variables]).fit()\n",
    "    while True:\n",
    "        print(f'old model aic: {model.aic}')\n",
    "        maxp = np.max(model.pvalues)\n",
    "        newvariables = variables[model.pvalues < maxp]\n",
    "        newmodel = sm.Logit(y,X[newvariables]).fit()\n",
    "        print(f'new model aic: {newmodel.aic}')\n",
    "        if newmodel.aic < model.aic:\n",
    "            model = newmodel\n",
    "            variables = newvariables\n",
    "        else:\n",
    "            break\n",
    "    return model,variables\n",
    "\n",
    "#select our features\n",
    "X = sm.add_constant(df.loc[:, :'Riser2Pos'])\n",
    "# now call the minAIC function on our independent and response variables\n",
    "new_model, logit_variables = minAIC(X, y)\n",
    "new_model = sm.Logit(y, X[logit_variables]).fit()\n",
    "results = new_model.summary()\n",
    "results"
   ]
  },
  {
   "cell_type": "markdown",
   "metadata": {
    "colab_type": "text",
    "id": "PTKa-LCV4FYH"
   },
   "source": [
    "## Question 3\n",
    "\n",
    "What has changed compared to the previous model? Has the AIC value decreased (check this below)?"
   ]
  },
  {
   "cell_type": "code",
   "execution_count": 10,
   "metadata": {
    "colab": {},
    "colab_type": "code",
    "id": "SRYQlx9O5BWk"
   },
   "outputs": [
    {
     "name": "stdout",
     "output_type": "stream",
     "text": [
      "Current model AIC: 69.58437234068401\n"
     ]
    }
   ],
   "source": [
    "# Your code here to check the new_model's AIC value\n",
    "print(f'Current model AIC: {new_model.aic}')"
   ]
  },
  {
   "cell_type": "markdown",
   "metadata": {
    "colab_type": "text",
    "id": "Qa6ENHD9IUez"
   },
   "source": [
    "Ans: This new model is analyzing a model with fewer variables. The value of AIC has decreased by approx. 9."
   ]
  },
  {
   "cell_type": "markdown",
   "metadata": {
    "colab_type": "text",
    "id": "65He_uwhJ7S8"
   },
   "source": [
    "#Multivariate Regression\n",
    "\n",
    "We will now fit a multivariate regression model for batch time using the same variables as predictors.\n",
    "\n",
    "Fit a multivariate regression model, using the code below. \n",
    "\n",
    "Note that in the linear model, all mold-variables are used, though GateDiam is replaced by a cubic polynomial in GateDiam; this model was suggested by the analysis in the previous lab. Additionally, we have used orthogonal polynomials to avoid colinearity. This will allow us to make inferences about the effect of input variables on batch time. You may recall seeing an error warning or colinearity while doing last week's recitation. Remember, colinearity is a concern for inference but not for prediction.  \n",
    "\n",
    "Feasible is not used since it is a response, not a mold-variable."
   ]
  },
  {
   "cell_type": "code",
   "execution_count": 11,
   "metadata": {
    "colab": {},
    "colab_type": "code",
    "id": "o5EKU4DYYzVn"
   },
   "outputs": [
    {
     "data": {
      "text/html": [
       "<table class=\"simpletable\">\n",
       "<caption>OLS Regression Results</caption>\n",
       "<tr>\n",
       "  <th>Dep. Variable:</th>        <td>BatchTime</td>    <th>  R-squared:         </th> <td>   0.835</td>\n",
       "</tr>\n",
       "<tr>\n",
       "  <th>Model:</th>                   <td>OLS</td>       <th>  Adj. R-squared:    </th> <td>   0.815</td>\n",
       "</tr>\n",
       "<tr>\n",
       "  <th>Method:</th>             <td>Least Squares</td>  <th>  F-statistic:       </th> <td>   40.52</td>\n",
       "</tr>\n",
       "<tr>\n",
       "  <th>Date:</th>             <td>Wed, 29 Apr 2020</td> <th>  Prob (F-statistic):</th> <td>1.01e-29</td>\n",
       "</tr>\n",
       "<tr>\n",
       "  <th>Time:</th>                 <td>17:14:16</td>     <th>  Log-Likelihood:    </th> <td> -309.10</td>\n",
       "</tr>\n",
       "<tr>\n",
       "  <th>No. Observations:</th>      <td>   100</td>      <th>  AIC:               </th> <td>   642.2</td>\n",
       "</tr>\n",
       "<tr>\n",
       "  <th>Df Residuals:</th>          <td>    88</td>      <th>  BIC:               </th> <td>   673.5</td>\n",
       "</tr>\n",
       "<tr>\n",
       "  <th>Df Model:</th>              <td>    11</td>      <th>                     </th>     <td> </td>   \n",
       "</tr>\n",
       "<tr>\n",
       "  <th>Covariance Type:</th>      <td>nonrobust</td>    <th>                     </th>     <td> </td>   \n",
       "</tr>\n",
       "</table>\n",
       "<table class=\"simpletable\">\n",
       "<tr>\n",
       "        <td></td>           <th>coef</th>     <th>std err</th>      <th>t</th>      <th>P>|t|</th>  <th>[0.025</th>    <th>0.975]</th>  \n",
       "</tr>\n",
       "<tr>\n",
       "  <th>const</th>         <td> 2921.4901</td> <td>   17.619</td> <td>  165.819</td> <td> 0.000</td> <td> 2886.477</td> <td> 2956.503</td>\n",
       "</tr>\n",
       "<tr>\n",
       "  <th>CupHeight</th>     <td>    1.1435</td> <td>    1.519</td> <td>    0.753</td> <td> 0.454</td> <td>   -1.876</td> <td>    4.162</td>\n",
       "</tr>\n",
       "<tr>\n",
       "  <th>SprueHeight</th>   <td>   -0.8335</td> <td>    1.056</td> <td>   -0.790</td> <td> 0.432</td> <td>   -2.931</td> <td>    1.264</td>\n",
       "</tr>\n",
       "<tr>\n",
       "  <th>RiserDiam</th>     <td>    9.5573</td> <td>    1.141</td> <td>    8.374</td> <td> 0.000</td> <td>    7.289</td> <td>   11.825</td>\n",
       "</tr>\n",
       "<tr>\n",
       "  <th>SprueDiamBot</th>  <td>    4.5050</td> <td>    4.838</td> <td>    0.931</td> <td> 0.354</td> <td>   -5.110</td> <td>   14.120</td>\n",
       "</tr>\n",
       "<tr>\n",
       "  <th>SprueDiamTop</th>  <td>    1.4360</td> <td>    3.480</td> <td>    0.413</td> <td> 0.681</td> <td>   -5.480</td> <td>    8.352</td>\n",
       "</tr>\n",
       "<tr>\n",
       "  <th>RiserHeight</th>   <td>    9.1068</td> <td>    1.381</td> <td>    6.594</td> <td> 0.000</td> <td>    6.362</td> <td>   11.852</td>\n",
       "</tr>\n",
       "<tr>\n",
       "  <th>Riser1Pos</th>     <td>   -0.7958</td> <td>    1.560</td> <td>   -0.510</td> <td> 0.611</td> <td>   -3.895</td> <td>    2.304</td>\n",
       "</tr>\n",
       "<tr>\n",
       "  <th>Riser2Pos</th>     <td>    0.7674</td> <td>    1.263</td> <td>    0.608</td> <td> 0.545</td> <td>   -1.742</td> <td>    3.277</td>\n",
       "</tr>\n",
       "<tr>\n",
       "  <th>GateDiamOrtho</th> <td> -107.9668</td> <td>    6.060</td> <td>  -17.816</td> <td> 0.000</td> <td> -120.010</td> <td>  -95.924</td>\n",
       "</tr>\n",
       "<tr>\n",
       "  <th>GateDiamSq</th>    <td>   28.7212</td> <td>    5.756</td> <td>    4.990</td> <td> 0.000</td> <td>   17.283</td> <td>   40.159</td>\n",
       "</tr>\n",
       "<tr>\n",
       "  <th>GateDiamCub</th>   <td>  -20.0070</td> <td>    5.924</td> <td>   -3.377</td> <td> 0.001</td> <td>  -31.779</td> <td>   -8.235</td>\n",
       "</tr>\n",
       "</table>\n",
       "<table class=\"simpletable\">\n",
       "<tr>\n",
       "  <th>Omnibus:</th>       <td> 0.361</td> <th>  Durbin-Watson:     </th> <td>   1.985</td>\n",
       "</tr>\n",
       "<tr>\n",
       "  <th>Prob(Omnibus):</th> <td> 0.835</td> <th>  Jarque-Bera (JB):  </th> <td>   0.523</td>\n",
       "</tr>\n",
       "<tr>\n",
       "  <th>Skew:</th>          <td>-0.102</td> <th>  Prob(JB):          </th> <td>   0.770</td>\n",
       "</tr>\n",
       "<tr>\n",
       "  <th>Kurtosis:</th>      <td> 2.710</td> <th>  Cond. No.          </th> <td>    483.</td>\n",
       "</tr>\n",
       "</table><br/><br/>Warnings:<br/>[1] Standard Errors assume that the covariance matrix of the errors is correctly specified."
      ],
      "text/plain": [
       "<class 'statsmodels.iolib.summary.Summary'>\n",
       "\"\"\"\n",
       "                            OLS Regression Results                            \n",
       "==============================================================================\n",
       "Dep. Variable:              BatchTime   R-squared:                       0.835\n",
       "Model:                            OLS   Adj. R-squared:                  0.815\n",
       "Method:                 Least Squares   F-statistic:                     40.52\n",
       "Date:                Wed, 29 Apr 2020   Prob (F-statistic):           1.01e-29\n",
       "Time:                        17:14:16   Log-Likelihood:                -309.10\n",
       "No. Observations:                 100   AIC:                             642.2\n",
       "Df Residuals:                      88   BIC:                             673.5\n",
       "Df Model:                          11                                         \n",
       "Covariance Type:            nonrobust                                         \n",
       "=================================================================================\n",
       "                    coef    std err          t      P>|t|      [0.025      0.975]\n",
       "---------------------------------------------------------------------------------\n",
       "const          2921.4901     17.619    165.819      0.000    2886.477    2956.503\n",
       "CupHeight         1.1435      1.519      0.753      0.454      -1.876       4.162\n",
       "SprueHeight      -0.8335      1.056     -0.790      0.432      -2.931       1.264\n",
       "RiserDiam         9.5573      1.141      8.374      0.000       7.289      11.825\n",
       "SprueDiamBot      4.5050      4.838      0.931      0.354      -5.110      14.120\n",
       "SprueDiamTop      1.4360      3.480      0.413      0.681      -5.480       8.352\n",
       "RiserHeight       9.1068      1.381      6.594      0.000       6.362      11.852\n",
       "Riser1Pos        -0.7958      1.560     -0.510      0.611      -3.895       2.304\n",
       "Riser2Pos         0.7674      1.263      0.608      0.545      -1.742       3.277\n",
       "GateDiamOrtho  -107.9668      6.060    -17.816      0.000    -120.010     -95.924\n",
       "GateDiamSq       28.7212      5.756      4.990      0.000      17.283      40.159\n",
       "GateDiamCub     -20.0070      5.924     -3.377      0.001     -31.779      -8.235\n",
       "==============================================================================\n",
       "Omnibus:                        0.361   Durbin-Watson:                   1.985\n",
       "Prob(Omnibus):                  0.835   Jarque-Bera (JB):                0.523\n",
       "Skew:                          -0.102   Prob(JB):                        0.770\n",
       "Kurtosis:                       2.710   Cond. No.                         483.\n",
       "==============================================================================\n",
       "\n",
       "Warnings:\n",
       "[1] Standard Errors assume that the covariance matrix of the errors is correctly specified.\n",
       "\"\"\""
      ]
     },
     "execution_count": 11,
     "metadata": {},
     "output_type": "execute_result"
    }
   ],
   "source": [
    "#function to produce orthogonal polynomials\n",
    "def ortho_poly_fit(x, degree = 1):\n",
    "    n = degree + 1\n",
    "    x = np.asarray(x).flatten()\n",
    "    if(degree >= len(np.unique(x))):\n",
    "            stop(\"'degree' must be less than number of unique points\")\n",
    "    xbar = np.mean(x)\n",
    "    x = x - xbar\n",
    "    X = np.fliplr(np.vander(x, n))\n",
    "    q,r = np.linalg.qr(X)\n",
    "\n",
    "    z = np.diag(np.diag(r))\n",
    "    raw = np.dot(q, z)\n",
    "\n",
    "    norm2 = np.sum(raw**2, axis=0)\n",
    "    alpha = (np.sum((raw**2)*np.reshape(x,(-1,1)), axis=0)/norm2 + xbar)[:degree]\n",
    "    Z = raw / np.sqrt(norm2)\n",
    "    return Z, norm2, alpha\n",
    "#get degree three orthogonal polynomials for 'GateDiam'\n",
    "Z, norm2, alpha = ortho_poly_fit(df['GateDiam'], degree=3)\n",
    "df2 = pd.DataFrame(Z, columns = ['const', 'GateDiamOrtho', 'GateDiamSq', 'GateDiamCub'])\n",
    "\n",
    "#Construct y and X with all orginal variables, higher order 'GateDiam' terms and a constant term.\n",
    "df2 = pd.DataFrame(Z, columns = ['const', 'GateDiamOrtho', 'GateDiamSq', 'GateDiamCub'])\n",
    "X = sm.add_constant(pd.concat([df.loc[:, 'CupHeight':'Riser2Pos'], df2.loc[:,'GateDiamOrtho':]], axis=1, sort=False))\n",
    "y = df[\"BatchTime\"]\n",
    "\n",
    "linear_model = sm.OLS(y, X).fit()\n",
    "linear_model.summary()"
   ]
  },
  {
   "cell_type": "markdown",
   "metadata": {
    "colab_type": "text",
    "id": "Z4SO7jbyehNM"
   },
   "source": [
    "Run the code below to the linear model and set of variables with minimal AIC. "
   ]
  },
  {
   "cell_type": "code",
   "execution_count": 12,
   "metadata": {
    "colab": {},
    "colab_type": "code",
    "id": "T4KMwSIFgEM6"
   },
   "outputs": [
    {
     "name": "stdout",
     "output_type": "stream",
     "text": [
      "old model aic: 642.1963101522895\n",
      "new model aic: 640.3896101349596\n",
      "old model aic: 640.3896101349596\n",
      "new model aic: 638.7304265932277\n",
      "old model aic: 638.7304265932277\n",
      "new model aic: 637.1126377949201\n",
      "old model aic: 637.1126377949201\n",
      "new model aic: 635.8088846834007\n",
      "old model aic: 635.8088846834007\n",
      "new model aic: 634.6767135122011\n",
      "old model aic: 634.6767135122011\n",
      "new model aic: 633.9038579643661\n",
      "old model aic: 633.9038579643661\n",
      "new model aic: 643.8367635672666\n"
     ]
    },
    {
     "data": {
      "text/html": [
       "<table class=\"simpletable\">\n",
       "<caption>OLS Regression Results</caption>\n",
       "<tr>\n",
       "  <th>Dep. Variable:</th>        <td>BatchTime</td>    <th>  R-squared:         </th> <td>   0.829</td>\n",
       "</tr>\n",
       "<tr>\n",
       "  <th>Model:</th>                   <td>OLS</td>       <th>  Adj. R-squared:    </th> <td>   0.820</td>\n",
       "</tr>\n",
       "<tr>\n",
       "  <th>Method:</th>             <td>Least Squares</td>  <th>  F-statistic:       </th> <td>   91.07</td>\n",
       "</tr>\n",
       "<tr>\n",
       "  <th>Date:</th>             <td>Wed, 29 Apr 2020</td> <th>  Prob (F-statistic):</th> <td>1.76e-34</td>\n",
       "</tr>\n",
       "<tr>\n",
       "  <th>Time:</th>                 <td>17:14:21</td>     <th>  Log-Likelihood:    </th> <td> -310.95</td>\n",
       "</tr>\n",
       "<tr>\n",
       "  <th>No. Observations:</th>      <td>   100</td>      <th>  AIC:               </th> <td>   633.9</td>\n",
       "</tr>\n",
       "<tr>\n",
       "  <th>Df Residuals:</th>          <td>    94</td>      <th>  BIC:               </th> <td>   649.5</td>\n",
       "</tr>\n",
       "<tr>\n",
       "  <th>Df Model:</th>              <td>     5</td>      <th>                     </th>     <td> </td>   \n",
       "</tr>\n",
       "<tr>\n",
       "  <th>Covariance Type:</th>      <td>nonrobust</td>    <th>                     </th>     <td> </td>   \n",
       "</tr>\n",
       "</table>\n",
       "<table class=\"simpletable\">\n",
       "<tr>\n",
       "        <td></td>           <th>coef</th>     <th>std err</th>      <th>t</th>      <th>P>|t|</th>  <th>[0.025</th>    <th>0.975]</th>  \n",
       "</tr>\n",
       "<tr>\n",
       "  <th>const</th>         <td> 2927.0585</td> <td>    9.632</td> <td>  303.896</td> <td> 0.000</td> <td> 2907.934</td> <td> 2946.183</td>\n",
       "</tr>\n",
       "<tr>\n",
       "  <th>RiserDiam</th>     <td>    9.1231</td> <td>    1.075</td> <td>    8.487</td> <td> 0.000</td> <td>    6.989</td> <td>   11.257</td>\n",
       "</tr>\n",
       "<tr>\n",
       "  <th>RiserHeight</th>   <td>    8.9444</td> <td>    1.290</td> <td>    6.933</td> <td> 0.000</td> <td>    6.383</td> <td>   11.506</td>\n",
       "</tr>\n",
       "<tr>\n",
       "  <th>GateDiamOrtho</th> <td> -107.5171</td> <td>    5.704</td> <td>  -18.850</td> <td> 0.000</td> <td> -118.842</td> <td>  -96.192</td>\n",
       "</tr>\n",
       "<tr>\n",
       "  <th>GateDiamSq</th>    <td>   28.5611</td> <td>    5.645</td> <td>    5.059</td> <td> 0.000</td> <td>   17.352</td> <td>   39.770</td>\n",
       "</tr>\n",
       "<tr>\n",
       "  <th>GateDiamCub</th>   <td>  -19.6789</td> <td>    5.701</td> <td>   -3.452</td> <td> 0.001</td> <td>  -30.999</td> <td>   -8.359</td>\n",
       "</tr>\n",
       "</table>\n",
       "<table class=\"simpletable\">\n",
       "<tr>\n",
       "  <th>Omnibus:</th>       <td> 1.076</td> <th>  Durbin-Watson:     </th> <td>   1.982</td>\n",
       "</tr>\n",
       "<tr>\n",
       "  <th>Prob(Omnibus):</th> <td> 0.584</td> <th>  Jarque-Bera (JB):  </th> <td>   1.125</td>\n",
       "</tr>\n",
       "<tr>\n",
       "  <th>Skew:</th>          <td>-0.160</td> <th>  Prob(JB):          </th> <td>   0.570</td>\n",
       "</tr>\n",
       "<tr>\n",
       "  <th>Kurtosis:</th>      <td> 2.591</td> <th>  Cond. No.          </th> <td>    152.</td>\n",
       "</tr>\n",
       "</table><br/><br/>Warnings:<br/>[1] Standard Errors assume that the covariance matrix of the errors is correctly specified."
      ],
      "text/plain": [
       "<class 'statsmodels.iolib.summary.Summary'>\n",
       "\"\"\"\n",
       "                            OLS Regression Results                            \n",
       "==============================================================================\n",
       "Dep. Variable:              BatchTime   R-squared:                       0.829\n",
       "Model:                            OLS   Adj. R-squared:                  0.820\n",
       "Method:                 Least Squares   F-statistic:                     91.07\n",
       "Date:                Wed, 29 Apr 2020   Prob (F-statistic):           1.76e-34\n",
       "Time:                        17:14:21   Log-Likelihood:                -310.95\n",
       "No. Observations:                 100   AIC:                             633.9\n",
       "Df Residuals:                      94   BIC:                             649.5\n",
       "Df Model:                           5                                         \n",
       "Covariance Type:            nonrobust                                         \n",
       "=================================================================================\n",
       "                    coef    std err          t      P>|t|      [0.025      0.975]\n",
       "---------------------------------------------------------------------------------\n",
       "const          2927.0585      9.632    303.896      0.000    2907.934    2946.183\n",
       "RiserDiam         9.1231      1.075      8.487      0.000       6.989      11.257\n",
       "RiserHeight       8.9444      1.290      6.933      0.000       6.383      11.506\n",
       "GateDiamOrtho  -107.5171      5.704    -18.850      0.000    -118.842     -96.192\n",
       "GateDiamSq       28.5611      5.645      5.059      0.000      17.352      39.770\n",
       "GateDiamCub     -19.6789      5.701     -3.452      0.001     -30.999      -8.359\n",
       "==============================================================================\n",
       "Omnibus:                        1.076   Durbin-Watson:                   1.982\n",
       "Prob(Omnibus):                  0.584   Jarque-Bera (JB):                1.125\n",
       "Skew:                          -0.160   Prob(JB):                        0.570\n",
       "Kurtosis:                       2.591   Cond. No.                         152.\n",
       "==============================================================================\n",
       "\n",
       "Warnings:\n",
       "[1] Standard Errors assume that the covariance matrix of the errors is correctly specified.\n",
       "\"\"\""
      ]
     },
     "execution_count": 12,
     "metadata": {},
     "output_type": "execute_result"
    }
   ],
   "source": [
    "def minAIC_OLS(X,y):\n",
    "    variables = X.columns\n",
    "    model = sm.OLS(y,X[variables]).fit()\n",
    "    while True:\n",
    "        print(f'old model aic: {model.aic}')\n",
    "        maxp = np.max(model.pvalues)\n",
    "        newvariables = variables[model.pvalues < maxp]\n",
    "        newmodel = sm.OLS(y,X[newvariables]).fit()\n",
    "        print(f'new model aic: {newmodel.aic}')\n",
    "        if newmodel.aic < model.aic:\n",
    "            model = newmodel\n",
    "            variables = newvariables\n",
    "        else:\n",
    "            break\n",
    "    return model,variables\n",
    "new_linear_model , linear_variables = minAIC_OLS(X,y)\n",
    "new_linear_model = sm.OLS(y,X[linear_variables]).fit()\n",
    "results = new_linear_model.summary()\n",
    "results"
   ]
  },
  {
   "cell_type": "markdown",
   "metadata": {
    "colab_type": "text",
    "id": "fJDA78s_JtD6"
   },
   "source": [
    "##Question 4\n",
    "What model for predicting BatchTime is selected by minAIC_OLS? Are all variables in that model statistically significant at 0.05?"
   ]
  },
  {
   "cell_type": "markdown",
   "metadata": {
    "colab_type": "text",
    "id": "J2f9qAZ5g9ca"
   },
   "source": [
    "Ans: The model testing RiserDiam, RiserHeight, GAteDiamOrtho, GateDiamSq and GateDiamCub is the one selected by the minAIC function. All of the variables are statistically significant at 0.05. "
   ]
  },
  {
   "cell_type": "markdown",
   "metadata": {
    "colab_type": "text",
    "id": "Nh8iYfCjhIT5"
   },
   "source": [
    "Now we will use the logistic model for `Feasible` and the linear model for `BatchTime`, to inform how to set the values of the mold-variables to minimize expected `BatchTime` and maximize $P(`Feasible = 1)$.\n",
    "\n",
    "##Question 5\n",
    "For each of the mold-variables and each of the outcomes $P(Feasible =1)$ and `BatchTime`, state whether increasing the variable would increase the outcome, decrease it, or have no effect, according to the last statistical models that you fit for each.\n",
    "\n",
    "Hint: Consider the following plot to when trying to understand the effect of `GateDiam` on `BatchTime`. The plot shows how $\\beta_{GateDiamOrtho}* X_{GateDiamOrtho} + \\beta_{GateDiamSq}*X_{GateDiamSq}+\\beta_{GateDiamCub}* X_{GateDiamCub}$ changes as `GateDiam` increases.  "
   ]
  },
  {
   "cell_type": "code",
   "execution_count": 13,
   "metadata": {
    "colab": {},
    "colab_type": "code",
    "id": "4UuRRHh9jQTg"
   },
   "outputs": [
    {
     "data": {
      "text/plain": [
       "Text(0, 0.5, 'GateDiamPoly')"
      ]
     },
     "execution_count": 13,
     "metadata": {},
     "output_type": "execute_result"
    },
    {
     "data": {
      "image/png": "[encoded data removed]",
      "text/plain": [
       "<Figure size 432x288 with 1 Axes>"
      ]
     },
     "metadata": {
      "needs_background": "light"
     },
     "output_type": "display_data"
    }
   ],
   "source": [
    "GateDiamPoly = X[['GateDiamOrtho','GateDiamSq','GateDiamCub']].dot(new_linear_model.params[['GateDiamOrtho','GateDiamSq','GateDiamCub']])\n",
    "plt.scatter(df['GateDiam'],GateDiamPoly)\n",
    "plt.xlabel('GateDiam')\n",
    "plt.ylabel('GateDiamPoly')"
   ]
  },
  {
   "cell_type": "markdown",
   "metadata": {
    "colab_type": "text",
    "id": "3QngtClnheQ5"
   },
   "source": [
    "Ans: Based on the plot, GateDiam seems to decrease BatchTime. RiserDiam and RiserHeight seem to increase BatchTime, since their coefficients from the linear regression are positive. "
   ]
  },
  {
   "cell_type": "markdown",
   "metadata": {
    "colab_type": "text",
    "id": "rM2FhtttpJMU"
   },
   "source": [
    "## Question 6\n",
    "Our goal is to set the mold-variables to minimize expected `BatchTime` and\n",
    "maximize $P(Feasible = 1)$. Based on your answers to question 5, for each variable state whether it should be as large as possible, as small as possible, or the value is unknown. For example, if increasing a variable will increase the probability of feasibility and decrease batch time, then it should be as large as possible. If it would increase the probability of feasibility but increase batch time, then the value is unknown."
   ]
  },
  {
   "cell_type": "markdown",
   "metadata": {
    "colab_type": "text",
    "id": "RrzvFcKzpaEH"
   },
   "source": [
    "Ans: GateDiam: decreases batchtime and coefficient for feasibility < 0, so value is unknown.\n",
    "RiserDiam: increase BatchTime and feasibility coefficient is > 0, so value is unknown. \n",
    "RiserHeight: increases BatchTime and no effect on feasibility, so value should be minimized.\n",
    "SprueDiamBot: Increases BatchTime and Decreases feasibility, so value should be minimized.\n",
    "SprueDiamTop: Increases BatchTime and increases feasibility, so value is unknown. \n"
   ]
  },
  {
   "cell_type": "markdown",
   "metadata": {
    "colab_type": "text",
    "id": "xy1D-IdVpqkK"
   },
   "source": [
    "# Randomized Search for Better Operating Conditions\n",
    "\n",
    "We now search to find values of the mold-variables that give a low expected `BatchTime` subject to the probability that the casting is feasible being at least 0.95. This problem is best solved by linear programming, but, since linear programming is not a prerequisite for this course, we will use a randomized search.\n",
    "\n",
    "Now we create a new set called newdata with 1,000,000 rows where the predictors vary uniformly between their smallest and largest values in the original data. The responses `BatchTime` and `Feasible` are not included in this data set. Rather, the expected values of `BatchTime` and `Feasible` are predicted using the logistic model and the linear model, respectively."
   ]
  },
  {
   "cell_type": "code",
   "execution_count": 14,
   "metadata": {
    "colab": {},
    "colab_type": "code",
    "id": "glC_mJ17wTld"
   },
   "outputs": [
    {
     "data": {
      "text/html": [
       "<div>\n",
       "<style scoped>\n",
       "    .dataframe tbody tr th:only-of-type {\n",
       "        vertical-align: middle;\n",
       "    }\n",
       "\n",
       "    .dataframe tbody tr th {\n",
       "        vertical-align: top;\n",
       "    }\n",
       "\n",
       "    .dataframe thead th {\n",
       "        text-align: right;\n",
       "    }\n",
       "</style>\n",
       "<table border=\"1\" class=\"dataframe\">\n",
       "  <thead>\n",
       "    <tr style=\"text-align: right;\">\n",
       "      <th></th>\n",
       "      <th>const</th>\n",
       "      <th>GateDiam</th>\n",
       "      <th>CupHeight</th>\n",
       "      <th>SprueHeight</th>\n",
       "      <th>RiserDiam</th>\n",
       "      <th>SprueDiamBot</th>\n",
       "      <th>SprueDiamTop</th>\n",
       "      <th>RiserHeight</th>\n",
       "      <th>Riser1Pos</th>\n",
       "      <th>Riser2Pos</th>\n",
       "    </tr>\n",
       "  </thead>\n",
       "  <tbody>\n",
       "    <tr>\n",
       "      <th>0</th>\n",
       "      <td>1.0</td>\n",
       "      <td>0.728633</td>\n",
       "      <td>4.782974</td>\n",
       "      <td>11.296558</td>\n",
       "      <td>7.497856</td>\n",
       "      <td>0.749386</td>\n",
       "      <td>1.049829</td>\n",
       "      <td>3.673499</td>\n",
       "      <td>2.972775</td>\n",
       "      <td>5.886284</td>\n",
       "    </tr>\n",
       "    <tr>\n",
       "      <th>1</th>\n",
       "      <td>1.0</td>\n",
       "      <td>0.219408</td>\n",
       "      <td>5.575331</td>\n",
       "      <td>11.519561</td>\n",
       "      <td>5.695499</td>\n",
       "      <td>0.646504</td>\n",
       "      <td>0.903803</td>\n",
       "      <td>4.094723</td>\n",
       "      <td>3.045477</td>\n",
       "      <td>5.443165</td>\n",
       "    </tr>\n",
       "    <tr>\n",
       "      <th>2</th>\n",
       "      <td>1.0</td>\n",
       "      <td>0.635229</td>\n",
       "      <td>4.803371</td>\n",
       "      <td>10.851808</td>\n",
       "      <td>7.542823</td>\n",
       "      <td>0.708284</td>\n",
       "      <td>1.077576</td>\n",
       "      <td>5.283172</td>\n",
       "      <td>3.675518</td>\n",
       "      <td>4.762267</td>\n",
       "    </tr>\n",
       "    <tr>\n",
       "      <th>3</th>\n",
       "      <td>1.0</td>\n",
       "      <td>0.713357</td>\n",
       "      <td>4.583025</td>\n",
       "      <td>10.377216</td>\n",
       "      <td>7.187206</td>\n",
       "      <td>0.534918</td>\n",
       "      <td>0.532767</td>\n",
       "      <td>4.861789</td>\n",
       "      <td>2.550009</td>\n",
       "      <td>5.292597</td>\n",
       "    </tr>\n",
       "    <tr>\n",
       "      <th>4</th>\n",
       "      <td>1.0</td>\n",
       "      <td>0.543542</td>\n",
       "      <td>4.154392</td>\n",
       "      <td>9.184616</td>\n",
       "      <td>6.733361</td>\n",
       "      <td>0.731484</td>\n",
       "      <td>0.352599</td>\n",
       "      <td>4.012132</td>\n",
       "      <td>2.574189</td>\n",
       "      <td>5.855998</td>\n",
       "    </tr>\n",
       "  </tbody>\n",
       "</table>\n",
       "</div>"
      ],
      "text/plain": [
       "   const  GateDiam  CupHeight  SprueHeight  RiserDiam  SprueDiamBot  \\\n",
       "0    1.0  0.728633   4.782974    11.296558   7.497856      0.749386   \n",
       "1    1.0  0.219408   5.575331    11.519561   5.695499      0.646504   \n",
       "2    1.0  0.635229   4.803371    10.851808   7.542823      0.708284   \n",
       "3    1.0  0.713357   4.583025    10.377216   7.187206      0.534918   \n",
       "4    1.0  0.543542   4.154392     9.184616   6.733361      0.731484   \n",
       "\n",
       "   SprueDiamTop  RiserHeight  Riser1Pos  Riser2Pos  \n",
       "0      1.049829     3.673499   2.972775   5.886284  \n",
       "1      0.903803     4.094723   3.045477   5.443165  \n",
       "2      1.077576     5.283172   3.675518   4.762267  \n",
       "3      0.532767     4.861789   2.550009   5.292597  \n",
       "4      0.352599     4.012132   2.574189   5.855998  "
      ]
     },
     "execution_count": 14,
     "metadata": {},
     "output_type": "execute_result"
    }
   ],
   "source": [
    "upperbounds = df.loc[:, :'Riser2Pos'].max()\n",
    "lowerbounds = df.loc[:, :'Riser2Pos'].min()\n",
    "N = 1000000\n",
    "np.random.seed(10) \n",
    "newdata = pd.DataFrame()\n",
    "for i in range(9):\n",
    "  newdata[df.columns[i]] = np.random.uniform(lowerbounds[i],upperbounds[i],N)\n",
    "\n",
    "newdata = sm.add_constant(newdata)\n",
    "newdata.head()"
   ]
  },
  {
   "cell_type": "code",
   "execution_count": 19,
   "metadata": {},
   "outputs": [
    {
     "data": {
      "text/plain": [
       "GateDiam         0.883781\n",
       "CupHeight        5.999328\n",
       "SprueHeight     11.877841\n",
       "RiserDiam        8.303038\n",
       "SprueDiamBot     0.849809\n",
       "SprueDiamTop     1.231756\n",
       "RiserHeight      5.978733\n",
       "Riser1Pos        4.387350\n",
       "Riser2Pos        6.010920\n",
       "dtype: float64"
      ]
     },
     "execution_count": 19,
     "metadata": {},
     "output_type": "execute_result"
    }
   ],
   "source": [
    "df.loc[:,:'Riser2Pos'].max()"
   ]
  },
  {
   "cell_type": "markdown",
   "metadata": {
    "colab_type": "text",
    "id": "Aicu3qTRDFPE"
   },
   "source": [
    "## Question 7\n",
    "\n",
    "We define the rande of our new data set using the lines:\n",
    "```\n",
    "upperbounds = df.loc[:, :'Riser2Pos'].max()\n",
    "lowerbounds = df.loc[:, :'Riser2Pos'].min()\n",
    "```\n",
    "Why do we define bounds this way?"
   ]
  },
  {
   "cell_type": "markdown",
   "metadata": {
    "colab_type": "text",
    "id": "qoKotAXqDevp"
   },
   "source": [
    "Ans: We define the bounds like this to get a maximum and minimum for each variable, excluding the constant since the constant is always the same."
   ]
  },
  {
   "cell_type": "markdown",
   "metadata": {
    "colab_type": "text",
    "id": "Fk9jwmYozIKe"
   },
   "source": [
    "Next, use `model.predict()` to compute the probability that `Feasible` is equal to 1, and create a sub-dataset called `newdata_feas` of `newdata` where this probability exceeds 0.95. \n",
    "\n",
    "Note: be careful when using `.predict()` for classification problems. Depending on the package it will give the probability of the outcome being 1 or a prediction (0 or 1). For example when using sklearn.LogisiticRegression, `.predict()` gives a 0-1 prediction and `.predict_prob()` gives the probability of the outcome being 1. You will explore sklearns's functionality in homework 8. "
   ]
  },
  {
   "cell_type": "code",
   "execution_count": 90,
   "metadata": {
    "colab": {},
    "colab_type": "code",
    "id": "fA_BbmEuzy8O"
   },
   "outputs": [
    {
     "data": {
      "text/html": [
       "<div>\n",
       "<style scoped>\n",
       "    .dataframe tbody tr th:only-of-type {\n",
       "        vertical-align: middle;\n",
       "    }\n",
       "\n",
       "    .dataframe tbody tr th {\n",
       "        vertical-align: top;\n",
       "    }\n",
       "\n",
       "    .dataframe thead th {\n",
       "        text-align: right;\n",
       "    }\n",
       "</style>\n",
       "<table border=\"1\" class=\"dataframe\">\n",
       "  <thead>\n",
       "    <tr style=\"text-align: right;\">\n",
       "      <th></th>\n",
       "      <th>const</th>\n",
       "      <th>GateDiam</th>\n",
       "      <th>CupHeight</th>\n",
       "      <th>SprueHeight</th>\n",
       "      <th>RiserDiam</th>\n",
       "      <th>SprueDiamBot</th>\n",
       "      <th>SprueDiamTop</th>\n",
       "      <th>RiserHeight</th>\n",
       "      <th>Riser1Pos</th>\n",
       "      <th>Riser2Pos</th>\n",
       "    </tr>\n",
       "  </thead>\n",
       "  <tbody>\n",
       "    <tr>\n",
       "      <th>13</th>\n",
       "      <td>1.0</td>\n",
       "      <td>0.552827</td>\n",
       "      <td>5.714371</td>\n",
       "      <td>9.632586</td>\n",
       "      <td>7.617059</td>\n",
       "      <td>0.299823</td>\n",
       "      <td>0.927728</td>\n",
       "      <td>5.223513</td>\n",
       "      <td>3.609849</td>\n",
       "      <td>5.023872</td>\n",
       "    </tr>\n",
       "    <tr>\n",
       "      <th>19</th>\n",
       "      <td>1.0</td>\n",
       "      <td>0.690135</td>\n",
       "      <td>5.443045</td>\n",
       "      <td>10.061820</td>\n",
       "      <td>7.863853</td>\n",
       "      <td>0.409665</td>\n",
       "      <td>0.816985</td>\n",
       "      <td>4.601488</td>\n",
       "      <td>4.128505</td>\n",
       "      <td>3.997595</td>\n",
       "    </tr>\n",
       "    <tr>\n",
       "      <th>20</th>\n",
       "      <td>1.0</td>\n",
       "      <td>0.573419</td>\n",
       "      <td>5.709910</td>\n",
       "      <td>10.612042</td>\n",
       "      <td>6.771296</td>\n",
       "      <td>0.411988</td>\n",
       "      <td>0.494410</td>\n",
       "      <td>3.604898</td>\n",
       "      <td>2.962786</td>\n",
       "      <td>4.408541</td>\n",
       "    </tr>\n",
       "    <tr>\n",
       "      <th>26</th>\n",
       "      <td>1.0</td>\n",
       "      <td>0.624454</td>\n",
       "      <td>4.644670</td>\n",
       "      <td>9.273356</td>\n",
       "      <td>8.044107</td>\n",
       "      <td>0.368806</td>\n",
       "      <td>0.911719</td>\n",
       "      <td>5.607907</td>\n",
       "      <td>2.948843</td>\n",
       "      <td>4.848981</td>\n",
       "    </tr>\n",
       "    <tr>\n",
       "      <th>27</th>\n",
       "      <td>1.0</td>\n",
       "      <td>0.553469</td>\n",
       "      <td>4.546825</td>\n",
       "      <td>9.747550</td>\n",
       "      <td>8.120162</td>\n",
       "      <td>0.486661</td>\n",
       "      <td>0.631431</td>\n",
       "      <td>3.620138</td>\n",
       "      <td>2.748097</td>\n",
       "      <td>5.491828</td>\n",
       "    </tr>\n",
       "    <tr>\n",
       "      <th>...</th>\n",
       "      <td>...</td>\n",
       "      <td>...</td>\n",
       "      <td>...</td>\n",
       "      <td>...</td>\n",
       "      <td>...</td>\n",
       "      <td>...</td>\n",
       "      <td>...</td>\n",
       "      <td>...</td>\n",
       "      <td>...</td>\n",
       "      <td>...</td>\n",
       "    </tr>\n",
       "    <tr>\n",
       "      <th>999983</th>\n",
       "      <td>1.0</td>\n",
       "      <td>0.356341</td>\n",
       "      <td>4.473072</td>\n",
       "      <td>11.058666</td>\n",
       "      <td>8.165541</td>\n",
       "      <td>0.516948</td>\n",
       "      <td>0.692722</td>\n",
       "      <td>4.562091</td>\n",
       "      <td>3.210236</td>\n",
       "      <td>4.061553</td>\n",
       "    </tr>\n",
       "    <tr>\n",
       "      <th>999984</th>\n",
       "      <td>1.0</td>\n",
       "      <td>0.298256</td>\n",
       "      <td>4.039474</td>\n",
       "      <td>10.236452</td>\n",
       "      <td>8.286895</td>\n",
       "      <td>0.554465</td>\n",
       "      <td>0.604284</td>\n",
       "      <td>5.612515</td>\n",
       "      <td>2.739200</td>\n",
       "      <td>4.620359</td>\n",
       "    </tr>\n",
       "    <tr>\n",
       "      <th>999985</th>\n",
       "      <td>1.0</td>\n",
       "      <td>0.535725</td>\n",
       "      <td>5.720329</td>\n",
       "      <td>9.846355</td>\n",
       "      <td>7.538301</td>\n",
       "      <td>0.334773</td>\n",
       "      <td>0.740498</td>\n",
       "      <td>5.440908</td>\n",
       "      <td>3.786614</td>\n",
       "      <td>5.524420</td>\n",
       "    </tr>\n",
       "    <tr>\n",
       "      <th>999997</th>\n",
       "      <td>1.0</td>\n",
       "      <td>0.235150</td>\n",
       "      <td>4.738454</td>\n",
       "      <td>9.203041</td>\n",
       "      <td>7.611928</td>\n",
       "      <td>0.628735</td>\n",
       "      <td>0.532466</td>\n",
       "      <td>4.849823</td>\n",
       "      <td>2.903365</td>\n",
       "      <td>5.327310</td>\n",
       "    </tr>\n",
       "    <tr>\n",
       "      <th>999999</th>\n",
       "      <td>1.0</td>\n",
       "      <td>0.616272</td>\n",
       "      <td>5.727587</td>\n",
       "      <td>10.405002</td>\n",
       "      <td>7.399094</td>\n",
       "      <td>0.516288</td>\n",
       "      <td>0.342332</td>\n",
       "      <td>4.960470</td>\n",
       "      <td>3.770107</td>\n",
       "      <td>5.835870</td>\n",
       "    </tr>\n",
       "  </tbody>\n",
       "</table>\n",
       "<p>259591 rows × 10 columns</p>\n",
       "</div>"
      ],
      "text/plain": [
       "        const  GateDiam  CupHeight  SprueHeight  RiserDiam  SprueDiamBot  \\\n",
       "13        1.0  0.552827   5.714371     9.632586   7.617059      0.299823   \n",
       "19        1.0  0.690135   5.443045    10.061820   7.863853      0.409665   \n",
       "20        1.0  0.573419   5.709910    10.612042   6.771296      0.411988   \n",
       "26        1.0  0.624454   4.644670     9.273356   8.044107      0.368806   \n",
       "27        1.0  0.553469   4.546825     9.747550   8.120162      0.486661   \n",
       "...       ...       ...        ...          ...        ...           ...   \n",
       "999983    1.0  0.356341   4.473072    11.058666   8.165541      0.516948   \n",
       "999984    1.0  0.298256   4.039474    10.236452   8.286895      0.554465   \n",
       "999985    1.0  0.535725   5.720329     9.846355   7.538301      0.334773   \n",
       "999997    1.0  0.235150   4.738454     9.203041   7.611928      0.628735   \n",
       "999999    1.0  0.616272   5.727587    10.405002   7.399094      0.516288   \n",
       "\n",
       "        SprueDiamTop  RiserHeight  Riser1Pos  Riser2Pos  \n",
       "13          0.927728     5.223513   3.609849   5.023872  \n",
       "19          0.816985     4.601488   4.128505   3.997595  \n",
       "20          0.494410     3.604898   2.962786   4.408541  \n",
       "26          0.911719     5.607907   2.948843   4.848981  \n",
       "27          0.631431     3.620138   2.748097   5.491828  \n",
       "...              ...          ...        ...        ...  \n",
       "999983      0.692722     4.562091   3.210236   4.061553  \n",
       "999984      0.604284     5.612515   2.739200   4.620359  \n",
       "999985      0.740498     5.440908   3.786614   5.524420  \n",
       "999997      0.532466     4.849823   2.903365   5.327310  \n",
       "999999      0.342332     4.960470   3.770107   5.835870  \n",
       "\n",
       "[259591 rows x 10 columns]"
      ]
     },
     "execution_count": 90,
     "metadata": {},
     "output_type": "execute_result"
    }
   ],
   "source": [
    "#predict probability of feasible block for each data point and remove points \n",
    "#with probability less than 0.95\n",
    "Yhat = new_model.predict(newdata[logit_variables])\n",
    "newdata_feas = newdata[pd.Series(Yhat >= 0.95)]\n",
    "newdata_feas"
   ]
  },
  {
   "cell_type": "markdown",
   "metadata": {
    "colab_type": "text",
    "id": "zx_XGXoh2RPu"
   },
   "source": [
    "Now, predict the value of `BatchTime` for all rows of newdata_feas and find the row where `BatchTime` is minimized; this is the single row of the dataset. \n",
    "\n",
    "First we apply the function `ortho_poly_predict` to the `GateDiam` values in our new set so we generate the higher order terms used by the linear regression model. "
   ]
  },
  {
   "cell_type": "code",
   "execution_count": 91,
   "metadata": {
    "colab": {},
    "colab_type": "code",
    "id": "SrIGR_2-3xu2"
   },
   "outputs": [
    {
     "data": {
      "text/html": [
       "<div>\n",
       "<style scoped>\n",
       "    .dataframe tbody tr th:only-of-type {\n",
       "        vertical-align: middle;\n",
       "    }\n",
       "\n",
       "    .dataframe tbody tr th {\n",
       "        vertical-align: top;\n",
       "    }\n",
       "\n",
       "    .dataframe thead th {\n",
       "        text-align: right;\n",
       "    }\n",
       "</style>\n",
       "<table border=\"1\" class=\"dataframe\">\n",
       "  <thead>\n",
       "    <tr style=\"text-align: right;\">\n",
       "      <th></th>\n",
       "      <th>const</th>\n",
       "      <th>CupHeight</th>\n",
       "      <th>SprueHeight</th>\n",
       "      <th>RiserDiam</th>\n",
       "      <th>SprueDiamBot</th>\n",
       "      <th>SprueDiamTop</th>\n",
       "      <th>RiserHeight</th>\n",
       "      <th>Riser1Pos</th>\n",
       "      <th>Riser2Pos</th>\n",
       "      <th>GateDiamOrtho</th>\n",
       "      <th>GateDiamSq</th>\n",
       "      <th>GateDiamCub</th>\n",
       "    </tr>\n",
       "  </thead>\n",
       "  <tbody>\n",
       "    <tr>\n",
       "      <th>0</th>\n",
       "      <td>1.0</td>\n",
       "      <td>5.714371</td>\n",
       "      <td>9.632586</td>\n",
       "      <td>7.617059</td>\n",
       "      <td>0.299823</td>\n",
       "      <td>0.927728</td>\n",
       "      <td>5.223513</td>\n",
       "      <td>3.609849</td>\n",
       "      <td>5.023872</td>\n",
       "      <td>0.046077</td>\n",
       "      <td>-0.073536</td>\n",
       "      <td>-0.036954</td>\n",
       "    </tr>\n",
       "    <tr>\n",
       "      <th>1</th>\n",
       "      <td>1.0</td>\n",
       "      <td>5.443045</td>\n",
       "      <td>10.061820</td>\n",
       "      <td>7.863853</td>\n",
       "      <td>0.409665</td>\n",
       "      <td>0.816985</td>\n",
       "      <td>4.601488</td>\n",
       "      <td>4.128505</td>\n",
       "      <td>3.997595</td>\n",
       "      <td>0.141397</td>\n",
       "      <td>0.033252</td>\n",
       "      <td>-0.115584</td>\n",
       "    </tr>\n",
       "    <tr>\n",
       "      <th>2</th>\n",
       "      <td>1.0</td>\n",
       "      <td>5.709910</td>\n",
       "      <td>10.612042</td>\n",
       "      <td>6.771296</td>\n",
       "      <td>0.411988</td>\n",
       "      <td>0.494410</td>\n",
       "      <td>3.604898</td>\n",
       "      <td>2.962786</td>\n",
       "      <td>4.408541</td>\n",
       "      <td>0.060372</td>\n",
       "      <td>-0.066299</td>\n",
       "      <td>-0.058216</td>\n",
       "    </tr>\n",
       "    <tr>\n",
       "      <th>3</th>\n",
       "      <td>1.0</td>\n",
       "      <td>4.644670</td>\n",
       "      <td>9.273356</td>\n",
       "      <td>8.044107</td>\n",
       "      <td>0.368806</td>\n",
       "      <td>0.911719</td>\n",
       "      <td>5.607907</td>\n",
       "      <td>2.948843</td>\n",
       "      <td>4.848981</td>\n",
       "      <td>0.095801</td>\n",
       "      <td>-0.035011</td>\n",
       "      <td>-0.100923</td>\n",
       "    </tr>\n",
       "    <tr>\n",
       "      <th>4</th>\n",
       "      <td>1.0</td>\n",
       "      <td>4.546825</td>\n",
       "      <td>9.747550</td>\n",
       "      <td>8.120162</td>\n",
       "      <td>0.486661</td>\n",
       "      <td>0.631431</td>\n",
       "      <td>3.620138</td>\n",
       "      <td>2.748097</td>\n",
       "      <td>5.491828</td>\n",
       "      <td>0.046522</td>\n",
       "      <td>-0.073358</td>\n",
       "      <td>-0.037635</td>\n",
       "    </tr>\n",
       "    <tr>\n",
       "      <th>...</th>\n",
       "      <td>...</td>\n",
       "      <td>...</td>\n",
       "      <td>...</td>\n",
       "      <td>...</td>\n",
       "      <td>...</td>\n",
       "      <td>...</td>\n",
       "      <td>...</td>\n",
       "      <td>...</td>\n",
       "      <td>...</td>\n",
       "      <td>...</td>\n",
       "      <td>...</td>\n",
       "      <td>...</td>\n",
       "    </tr>\n",
       "    <tr>\n",
       "      <th>259586</th>\n",
       "      <td>1.0</td>\n",
       "      <td>4.473072</td>\n",
       "      <td>11.058666</td>\n",
       "      <td>8.165541</td>\n",
       "      <td>0.516948</td>\n",
       "      <td>0.692722</td>\n",
       "      <td>4.562091</td>\n",
       "      <td>3.210236</td>\n",
       "      <td>4.061553</td>\n",
       "      <td>-0.090326</td>\n",
       "      <td>0.013183</td>\n",
       "      <td>0.072132</td>\n",
       "    </tr>\n",
       "    <tr>\n",
       "      <th>259587</th>\n",
       "      <td>1.0</td>\n",
       "      <td>4.039474</td>\n",
       "      <td>10.236452</td>\n",
       "      <td>8.286895</td>\n",
       "      <td>0.554465</td>\n",
       "      <td>0.604284</td>\n",
       "      <td>5.612515</td>\n",
       "      <td>2.739200</td>\n",
       "      <td>4.620359</td>\n",
       "      <td>-0.130649</td>\n",
       "      <td>0.092824</td>\n",
       "      <td>-0.002964</td>\n",
       "    </tr>\n",
       "    <tr>\n",
       "      <th>259588</th>\n",
       "      <td>1.0</td>\n",
       "      <td>5.720329</td>\n",
       "      <td>9.846355</td>\n",
       "      <td>7.538301</td>\n",
       "      <td>0.334773</td>\n",
       "      <td>0.740498</td>\n",
       "      <td>5.440908</td>\n",
       "      <td>3.786614</td>\n",
       "      <td>5.524420</td>\n",
       "      <td>0.034205</td>\n",
       "      <td>-0.077193</td>\n",
       "      <td>-0.018587</td>\n",
       "    </tr>\n",
       "    <tr>\n",
       "      <th>259589</th>\n",
       "      <td>1.0</td>\n",
       "      <td>4.738454</td>\n",
       "      <td>9.203041</td>\n",
       "      <td>7.611928</td>\n",
       "      <td>0.628735</td>\n",
       "      <td>0.532466</td>\n",
       "      <td>4.849823</td>\n",
       "      <td>2.903365</td>\n",
       "      <td>5.327310</td>\n",
       "      <td>-0.174458</td>\n",
       "      <td>0.207279</td>\n",
       "      <td>-0.184751</td>\n",
       "    </tr>\n",
       "    <tr>\n",
       "      <th>259590</th>\n",
       "      <td>1.0</td>\n",
       "      <td>5.727587</td>\n",
       "      <td>10.405002</td>\n",
       "      <td>7.399094</td>\n",
       "      <td>0.516288</td>\n",
       "      <td>0.342332</td>\n",
       "      <td>4.960470</td>\n",
       "      <td>3.770107</td>\n",
       "      <td>5.835870</td>\n",
       "      <td>0.090121</td>\n",
       "      <td>-0.041308</td>\n",
       "      <td>-0.095443</td>\n",
       "    </tr>\n",
       "  </tbody>\n",
       "</table>\n",
       "<p>259591 rows × 12 columns</p>\n",
       "</div>"
      ],
      "text/plain": [
       "        const  CupHeight  SprueHeight  RiserDiam  SprueDiamBot  SprueDiamTop  \\\n",
       "0         1.0   5.714371     9.632586   7.617059      0.299823      0.927728   \n",
       "1         1.0   5.443045    10.061820   7.863853      0.409665      0.816985   \n",
       "2         1.0   5.709910    10.612042   6.771296      0.411988      0.494410   \n",
       "3         1.0   4.644670     9.273356   8.044107      0.368806      0.911719   \n",
       "4         1.0   4.546825     9.747550   8.120162      0.486661      0.631431   \n",
       "...       ...        ...          ...        ...           ...           ...   \n",
       "259586    1.0   4.473072    11.058666   8.165541      0.516948      0.692722   \n",
       "259587    1.0   4.039474    10.236452   8.286895      0.554465      0.604284   \n",
       "259588    1.0   5.720329     9.846355   7.538301      0.334773      0.740498   \n",
       "259589    1.0   4.738454     9.203041   7.611928      0.628735      0.532466   \n",
       "259590    1.0   5.727587    10.405002   7.399094      0.516288      0.342332   \n",
       "\n",
       "        RiserHeight  Riser1Pos  Riser2Pos  GateDiamOrtho  GateDiamSq  \\\n",
       "0          5.223513   3.609849   5.023872       0.046077   -0.073536   \n",
       "1          4.601488   4.128505   3.997595       0.141397    0.033252   \n",
       "2          3.604898   2.962786   4.408541       0.060372   -0.066299   \n",
       "3          5.607907   2.948843   4.848981       0.095801   -0.035011   \n",
       "4          3.620138   2.748097   5.491828       0.046522   -0.073358   \n",
       "...             ...        ...        ...            ...         ...   \n",
       "259586     4.562091   3.210236   4.061553      -0.090326    0.013183   \n",
       "259587     5.612515   2.739200   4.620359      -0.130649    0.092824   \n",
       "259588     5.440908   3.786614   5.524420       0.034205   -0.077193   \n",
       "259589     4.849823   2.903365   5.327310      -0.174458    0.207279   \n",
       "259590     4.960470   3.770107   5.835870       0.090121   -0.041308   \n",
       "\n",
       "        GateDiamCub  \n",
       "0         -0.036954  \n",
       "1         -0.115584  \n",
       "2         -0.058216  \n",
       "3         -0.100923  \n",
       "4         -0.037635  \n",
       "...             ...  \n",
       "259586     0.072132  \n",
       "259587    -0.002964  \n",
       "259588    -0.018587  \n",
       "259589    -0.184751  \n",
       "259590    -0.095443  \n",
       "\n",
       "[259591 rows x 12 columns]"
      ]
     },
     "execution_count": 91,
     "metadata": {},
     "output_type": "execute_result"
    }
   ],
   "source": [
    "def ortho_poly_predict(x, alpha, norm2, degree = 1):\n",
    "    x = np.asarray(x).flatten()\n",
    "    n = degree + 1\n",
    "    Z = np.empty((len(x), n))\n",
    "    Z[:,0] = 1\n",
    "    if degree > 0:\n",
    "        Z[:, 1] = x - alpha[0]\n",
    "    if degree > 1:\n",
    "      for i in np.arange(1,degree):\n",
    "          Z[:, i+1] = (x - alpha[i]) * Z[:, i] - (norm2[i] / norm2[i-1]) * Z[:, i-1]\n",
    "    Z /= np.sqrt(norm2)\n",
    "    return Z\n",
    "\n",
    "Z = ortho_poly_predict(newdata_feas['GateDiam'], alpha, norm2, degree = 3)\n",
    "Z = pd.DataFrame(Z, columns = ['-', 'GateDiamOrtho', 'GateDiamSq', 'GateDiamCub'])\n",
    "#Construct X with all orginal variables, higher order 'GateDiam' terms\n",
    "newdata_feas = newdata_feas.reset_index(drop=True)\n",
    "X = sm.add_constant(pd.concat([newdata_feas.loc[:, 'CupHeight':'Riser2Pos'], Z.loc[:,'GateDiamOrtho':]], axis=1, sort=False))\n",
    "#predict batchtime\n",
    "exBatchTime = new_linear_model.predict(X[linear_variables])\n",
    "exBatchTime.min()\n",
    "X"
   ]
  },
  {
   "cell_type": "markdown",
   "metadata": {
    "colab_type": "text",
    "id": "3MW-8AwHESgY"
   },
   "source": [
    "##Question 8 \n",
    "What is the expected value of BatchTime under optimal conditions? “Optimal\n",
    "conditions” means that the predictors are set to their optimal values.\n",
    "\n",
    "\n"
   ]
  },
  {
   "cell_type": "markdown",
   "metadata": {
    "colab_type": "text",
    "id": "Fz7gLML_15oY"
   },
   "source": [
    "Ans: The expected value of BatchTime under optimal conditions is 2994.49. \n"
   ]
  },
  {
   "cell_type": "code",
   "execution_count": 67,
   "metadata": {
    "colab": {},
    "colab_type": "code",
    "id": "P2uaQMkyFIf2"
   },
   "outputs": [
    {
     "data": {
      "text/plain": [
       "CupHeight         4.163599\n",
       "SprueHeight      11.080075\n",
       "RiserDiam         6.704074\n",
       "SprueDiamBot      0.280814\n",
       "SprueDiamTop      0.326616\n",
       "RiserHeight       3.430971\n",
       "Riser1Pos         3.254005\n",
       "Riser2Pos         4.520579\n",
       "GateDiamOrtho     0.269224\n",
       "GateDiamSq        0.392622\n",
       "GateDiamCub       0.339652\n",
       "Name: 133193, dtype: float64"
      ]
     },
     "execution_count": 67,
     "metadata": {},
     "output_type": "execute_result"
    }
   ],
   "source": [
    "#your code here\n",
    "m = np.argmin(exBatchTime)\n",
    "row = X.iloc[m, 1:]\n",
    "row"
   ]
  },
  {
   "cell_type": "markdown",
   "metadata": {
    "colab_type": "text",
    "id": "Huo3hg0b1goU"
   },
   "source": [
    "##Question 9\n",
    "What are the “optimal” values of the variables, where “optimal” means mini-\n",
    "mizing the expected `BatchTime` subject to $P(Feasible = 1) > 0.95$. Compare these results with your answer to Problem 5. You may also want to look at the maximum and minimum values for each variable. "
   ]
  },
  {
   "cell_type": "markdown",
   "metadata": {
    "colab_type": "text",
    "id": "dm3NUmCoEkzk"
   },
   "source": [
    "Ans: The optimal values are shown above. Compared to Problem 5, the results for SprueDiamBot were similar, as it's value is one of the smallest of the variables listed. The maximum value is SprueHeight, and the minimum is GateDiamOrtho."
   ]
  },
  {
   "cell_type": "code",
   "execution_count": 94,
   "metadata": {
    "colab": {},
    "colab_type": "code",
    "id": "CD4ThqzCFaS5"
   },
   "outputs": [
    {
     "data": {
      "text/plain": [
       "0.9995034384921853"
      ]
     },
     "execution_count": 94,
     "metadata": {},
     "output_type": "execute_result"
    }
   ],
   "source": [
    "#your code here\n",
    "Y = new_model.predict(newdata[logit_variables])\n",
    "Y[m]"
   ]
  },
  {
   "cell_type": "markdown",
   "metadata": {
    "colab_type": "text",
    "id": "RFBXBMHCEjaQ"
   },
   "source": [
    "##Question 10 \n",
    "\n",
    "What is the probability that Feasible will equal 1 under optimal conditions?\n",
    "Hint: Use predict again.\n"
   ]
  },
  {
   "cell_type": "markdown",
   "metadata": {
    "colab_type": "text",
    "id": "abOA8aeJFk_H"
   },
   "source": [
    "Ans: The probability that feasibility will equal 1 under optimal conditions is .9995"
   ]
  },
  {
   "cell_type": "code",
   "execution_count": 0,
   "metadata": {
    "colab": {},
    "colab_type": "code",
    "id": "8-inbrM8FmAd"
   },
   "outputs": [],
   "source": [
    "#your code here"
   ]
  }
 ],
 "metadata": {
  "colab": {
   "collapsed_sections": [],
   "name": "Recitation_11– Logistic_Regression.ipynb",
   "provenance": [],
   "toc_visible": true
  },
  "kernelspec": {
   "display_name": "Python 3",
   "language": "python",
   "name": "python3"
  },
  "language_info": {
   "codemirror_mode": {
    "name": "ipython",
    "version": 3
   },
   "file_extension": ".py",
   "mimetype": "text/x-python",
   "name": "python",
   "nbconvert_exporter": "python",
   "pygments_lexer": "ipython3",
   "version": "3.7.6"
  }
 },
 "nbformat": 4,
 "nbformat_minor": 1
}
